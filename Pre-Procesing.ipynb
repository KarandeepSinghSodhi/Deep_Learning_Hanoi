{
 "cells": [
  {
   "cell_type": "code",
   "execution_count": 12,
   "id": "7e7b6036",
   "metadata": {
    "is_executing": true
   },
   "outputs": [],
   "source": [
    "import numpy as np\n",
    "import pandas as pd\n",
    "import os\n",
    "import tensorflow as tf\n",
    "from sklearn.model_selection import train_test_split, KFold\n",
    "from sklearn.preprocessing import StandardScaler\n",
    "from sklearn.metrics import confusion_matrix, ConfusionMatrixDisplay\n",
    "import matplotlib.pyplot as plt"
   ]
  },
  {
   "cell_type": "code",
   "execution_count": 13,
   "id": "449c8453",
   "metadata": {},
   "outputs": [],
   "source": [
    "num_scen = 3"
   ]
  },
  {
   "cell_type": "code",
   "execution_count": 14,
   "id": "6b3052f6",
   "metadata": {},
   "outputs": [],
   "source": [
    "f = pd.read_csv(f\"C:\\\\study material\\\\CS F266\\\\Hanoi_CMH\\\\Scenario-2\\\\Demands\\\\Node_1.csv\")"
   ]
  },
  {
   "cell_type": "code",
   "execution_count": 15,
   "id": "ee8f76d2",
   "metadata": {},
   "outputs": [
    {
     "name": "stdout",
     "output_type": "stream",
     "text": [
      "Index    0\n",
      "Value    0\n",
      "dtype: int64\n"
     ]
    }
   ],
   "source": [
    "print(f.isna().sum())"
   ]
  },
  {
   "cell_type": "code",
   "execution_count": 16,
   "id": "ace07115",
   "metadata": {},
   "outputs": [],
   "source": [
    "# Initialize the DataFrame to store the combined data\n",
    "combined_data_final = pd.DataFrame()\n",
    "\n",
    "# Loop through each scenario\n",
    "for k in range(1,num_scen):\n",
    "    # Initialize DataFrame to store data for the current scenario\n",
    "    combined_data = pd.DataFrame()\n",
    "    \n",
    "    # Read timestamps data\n",
    "    sf = pd.read_csv(f\"C:\\\\study material\\\\CS F266\\\\Hanoi_CMH\\\\Scenario-{k}\\\\Timestamps.csv\")\n",
    "    combined_data['Timestamp'] = sf['Timestamp'].tolist()\n",
    "    \n",
    "    # Read demands data for nodes\n",
    "    for i in range(1, 33):\n",
    "        df1 = pd.read_csv(f\"C:\\\\study material\\\\CS F266\\\\Hanoi_CMH\\\\Scenario-{k}\\\\Demands\\\\Node_{i}.csv\")\n",
    "        combined_data[f\"D_node-{i}\"] = df1['Value'].tolist()\n",
    "    \n",
    "    # Read pressures data for nodes\n",
    "    for y in range(1, 33):\n",
    "        df2 = pd.read_csv(f\"C:\\\\study material\\\\CS F266\\\\Hanoi_CMH\\\\Scenario-{k}\\\\Pressures\\\\Node_{y}.csv\")\n",
    "        combined_data[f\"P_node-{y}\"] = df2['Value'].tolist()\n",
    "    \n",
    "    # Read flows data for links\n",
    "    for z in range(1, 35):\n",
    "        df3 = pd.read_csv(f\"C:\\\\study material\\\\CS F266\\\\Hanoi_CMH\\\\Scenario-{k}\\\\Flows\\\\Link_{z}.csv\")\n",
    "        combined_data[f\"F_node-{z}\"] = df3['Value'].tolist()\n",
    "    \n",
    "#     # Read leakage data for nodes\n",
    "#     for x in range(1, 35):\n",
    "#         file_path = f\"C:\\\\study material\\\\CS F266\\\\Hanoi_CMH\\\\Scenario-{k}\\\\Leaks\\\\Leak_{x}_demand.csv\"\n",
    "#         if os.path.exists(file_path):\n",
    "#             df4 = pd.read_csv(file_path)\n",
    "#             combined_data[f\"Leak_node-{x}\"] = df4['Value'].tolist()\n",
    "#         else:\n",
    "#             empty_list = [0] * 17520  # Assuming 17520 values for each scenario\n",
    "#             combined_data[f\"Leak_node-{x}\"] = empty_list\n",
    "    \n",
    "    # Concatenate data for the current scenario with the final combined data\n",
    "    combined_data_final = pd.concat([combined_data_final, combined_data], ignore_index=True)\n"
   ]
  },
  {
   "cell_type": "code",
   "execution_count": 17,
   "id": "f81ec1a0",
   "metadata": {},
   "outputs": [
    {
     "data": {
      "text/plain": [
       "(35040, 99)"
      ]
     },
     "execution_count": 17,
     "metadata": {},
     "output_type": "execute_result"
    }
   ],
   "source": [
    "combined_data_final.shape\n"
   ]
  },
  {
   "cell_type": "code",
   "execution_count": 18,
   "id": "52732ec9",
   "metadata": {},
   "outputs": [
    {
     "data": {
      "text/plain": [
       "Timestamp    0\n",
       "D_node-1     0\n",
       "D_node-2     0\n",
       "D_node-3     0\n",
       "D_node-4     0\n",
       "            ..\n",
       "F_node-30    0\n",
       "F_node-31    0\n",
       "F_node-32    0\n",
       "F_node-33    0\n",
       "F_node-34    0\n",
       "Length: 99, dtype: int64"
      ]
     },
     "execution_count": 18,
     "metadata": {},
     "output_type": "execute_result"
    }
   ],
   "source": [
    "combined_data_final.isna().sum()"
   ]
  },
  {
   "cell_type": "code",
   "execution_count": 19,
   "id": "7107097a",
   "metadata": {},
   "outputs": [],
   "source": [
    "new_columns = pd.DataFrame(0, index=combined_data_final.index, columns=[f\"Leak_node-{i}\" for i in range(1, 35)])\n",
    "\n",
    "# Concatenate new_columns DataFrame to the original dataset\n",
    "combined_data_final = pd.concat([combined_data_final, new_columns], axis=1)"
   ]
  },
  {
   "cell_type": "code",
   "execution_count": 20,
   "id": "2923d736",
   "metadata": {},
   "outputs": [
    {
     "data": {
      "text/plain": [
       "Timestamp       0\n",
       "D_node-1        0\n",
       "D_node-2        0\n",
       "D_node-3        0\n",
       "D_node-4        0\n",
       "               ..\n",
       "Leak_node-30    0\n",
       "Leak_node-31    0\n",
       "Leak_node-32    0\n",
       "Leak_node-33    0\n",
       "Leak_node-34    0\n",
       "Length: 133, dtype: int64"
      ]
     },
     "execution_count": 20,
     "metadata": {},
     "output_type": "execute_result"
    }
   ],
   "source": [
    "combined_data_final.isna().sum()"
   ]
  },
  {
   "cell_type": "code",
   "execution_count": 21,
   "id": "68747811",
   "metadata": {},
   "outputs": [
    {
     "data": {
      "text/plain": [
       "(35040, 133)"
      ]
     },
     "execution_count": 21,
     "metadata": {},
     "output_type": "execute_result"
    }
   ],
   "source": [
    "combined_data_final.shape"
   ]
  },
  {
   "cell_type": "code",
   "execution_count": 22,
   "id": "8d026e46",
   "metadata": {},
   "outputs": [
    {
     "ename": "NameError",
     "evalue": "name 'df4' is not defined",
     "output_type": "error",
     "traceback": [
      "\u001b[1;31m---------------------------------------------------------------------------\u001b[0m",
      "\u001b[1;31mNameError\u001b[0m                                 Traceback (most recent call last)",
      "Cell \u001b[1;32mIn[22], line 1\u001b[0m\n\u001b[1;32m----> 1\u001b[0m df4[\u001b[38;5;124m'\u001b[39m\u001b[38;5;124mValue\u001b[39m\u001b[38;5;124m'\u001b[39m]\n",
      "\u001b[1;31mNameError\u001b[0m: name 'df4' is not defined"
     ]
    }
   ],
   "source": [
    "df4['Value']"
   ]
  },
  {
   "cell_type": "code",
   "execution_count": 23,
   "id": "831062f4",
   "metadata": {},
   "outputs": [],
   "source": [
    "import os\n",
    "\n",
    "# Initialize the DataFrame to store the combined data\n",
    "combined_data_final = pd.DataFrame()\n",
    "\n",
    "# Initialize DataFrame to store leak data\n",
    "leak_data_final = pd.DataFrame()\n",
    "\n",
    "# Loop through each scenario\n",
    "for k in range(1, num_scen):\n",
    "    # Initialize DataFrame to store data for the current scenario\n",
    "    combined_data = pd.DataFrame()\n",
    "    \n",
    "    # Read timestamps data\n",
    "    sf = pd.read_csv(f\"C:\\\\study material\\\\CS F266\\\\Hanoi_CMH\\\\Scenario-{k}\\\\Timestamps.csv\")\n",
    "    combined_data['Timestamp'] = sf['Timestamp'].tolist()\n",
    "    \n",
    "    # Read demands data for nodes\n",
    "    for i in range(1, 33):\n",
    "        df1 = pd.read_csv(f\"C:\\\\study material\\\\CS F266\\\\Hanoi_CMH\\\\Scenario-{k}\\\\Demands\\\\Node_{i}.csv\")\n",
    "        combined_data[f\"D_node-{i}\"] = df1['Value'].tolist()\n",
    "    \n",
    "    # Read pressures data for nodes\n",
    "    for y in range(1, 33):\n",
    "        df2 = pd.read_csv(f\"C:\\\\study material\\\\CS F266\\\\Hanoi_CMH\\\\Scenario-{k}\\\\Pressures\\\\Node_{y}.csv\")\n",
    "        combined_data[f\"P_node-{y}\"] = df2['Value'].tolist()\n",
    "    \n",
    "    # Read flows data for links\n",
    "    for z in range(1, 35):\n",
    "        df3 = pd.read_csv(f\"C:\\\\study material\\\\CS F266\\\\Hanoi_CMH\\\\Scenario-{k}\\\\Flows\\\\Link_{z}.csv\")\n",
    "        combined_data[f\"F_node-{z}\"] = df3['Value'].tolist()\n",
    "    \n",
    "    # Concatenate data for the current scenario with the final combined data\n",
    "    combined_data_final = pd.concat([combined_data_final, combined_data], ignore_index=True)\n",
    "\n",
    "    # Iterate over each possible leak column\n",
    "    scenario_leak_data = pd.DataFrame()\n",
    "    for x in range(1, 35):\n",
    "        leak_df = pd.DataFrame()\n",
    "        file_path = f\"C:\\\\study material\\\\CS F266\\\\Hanoi_CMH\\\\Scenario-{k}\\\\Leaks\\\\Leak_{x}_demand.csv\"\n",
    "        if os.path.exists(file_path):\n",
    "            leak_df['Leak_node'] = pd.read_csv(file_path)['Value'].tolist()\n",
    "        else:\n",
    "            leak_df['Leak_node'] = [0] * len(combined_data)  # Fill with zeros if file not found\n",
    "        scenario_leak_data[f'Leak_node-{x}'] = leak_df['Leak_node']\n",
    "\n",
    "    # Concatenate leak data for the current scenario with the final leak data\n",
    "    leak_data_final = pd.concat([leak_data_final, scenario_leak_data], ignore_index=True)\n",
    "\n",
    "# Join leak data with combined data\n",
    "combined_data_final = pd.concat([combined_data_final, leak_data_final], axis=1)\n"
   ]
  },
  {
   "cell_type": "code",
   "execution_count": null,
   "id": "af2ac622",
   "metadata": {},
   "outputs": [],
   "source": []
  },
  {
   "cell_type": "code",
   "execution_count": 24,
   "id": "edd55353",
   "metadata": {},
   "outputs": [
    {
     "data": {
      "text/html": [
       "<div>\n",
       "<style scoped>\n",
       "    .dataframe tbody tr th:only-of-type {\n",
       "        vertical-align: middle;\n",
       "    }\n",
       "\n",
       "    .dataframe tbody tr th {\n",
       "        vertical-align: top;\n",
       "    }\n",
       "\n",
       "    .dataframe thead th {\n",
       "        text-align: right;\n",
       "    }\n",
       "</style>\n",
       "<table border=\"1\" class=\"dataframe\">\n",
       "  <thead>\n",
       "    <tr style=\"text-align: right;\">\n",
       "      <th></th>\n",
       "      <th>Timestamp</th>\n",
       "      <th>D_node-1</th>\n",
       "      <th>D_node-2</th>\n",
       "      <th>D_node-3</th>\n",
       "      <th>D_node-4</th>\n",
       "      <th>D_node-5</th>\n",
       "      <th>D_node-6</th>\n",
       "      <th>D_node-7</th>\n",
       "      <th>D_node-8</th>\n",
       "      <th>D_node-9</th>\n",
       "      <th>...</th>\n",
       "      <th>Leak_node-25</th>\n",
       "      <th>Leak_node-26</th>\n",
       "      <th>Leak_node-27</th>\n",
       "      <th>Leak_node-28</th>\n",
       "      <th>Leak_node-29</th>\n",
       "      <th>Leak_node-30</th>\n",
       "      <th>Leak_node-31</th>\n",
       "      <th>Leak_node-32</th>\n",
       "      <th>Leak_node-33</th>\n",
       "      <th>Leak_node-34</th>\n",
       "    </tr>\n",
       "  </thead>\n",
       "  <tbody>\n",
       "    <tr>\n",
       "      <th>0</th>\n",
       "      <td>2017-01-01 00:00:00</td>\n",
       "      <td>-3337.2</td>\n",
       "      <td>151.2</td>\n",
       "      <td>140.4</td>\n",
       "      <td>21.6</td>\n",
       "      <td>104.4</td>\n",
       "      <td>169.2</td>\n",
       "      <td>219.6</td>\n",
       "      <td>86.4</td>\n",
       "      <td>90.0</td>\n",
       "      <td>...</td>\n",
       "      <td>0</td>\n",
       "      <td>0</td>\n",
       "      <td>0</td>\n",
       "      <td>0</td>\n",
       "      <td>0</td>\n",
       "      <td>0</td>\n",
       "      <td>0</td>\n",
       "      <td>0</td>\n",
       "      <td>0</td>\n",
       "      <td>0</td>\n",
       "    </tr>\n",
       "    <tr>\n",
       "      <th>1</th>\n",
       "      <td>2017-01-01 00:30:00</td>\n",
       "      <td>-2973.6</td>\n",
       "      <td>136.8</td>\n",
       "      <td>122.4</td>\n",
       "      <td>18.0</td>\n",
       "      <td>100.8</td>\n",
       "      <td>154.8</td>\n",
       "      <td>230.4</td>\n",
       "      <td>79.2</td>\n",
       "      <td>72.0</td>\n",
       "      <td>...</td>\n",
       "      <td>0</td>\n",
       "      <td>0</td>\n",
       "      <td>0</td>\n",
       "      <td>0</td>\n",
       "      <td>0</td>\n",
       "      <td>0</td>\n",
       "      <td>0</td>\n",
       "      <td>0</td>\n",
       "      <td>0</td>\n",
       "      <td>0</td>\n",
       "    </tr>\n",
       "    <tr>\n",
       "      <th>2</th>\n",
       "      <td>2017-01-01 01:00:00</td>\n",
       "      <td>-2584.8</td>\n",
       "      <td>118.8</td>\n",
       "      <td>100.8</td>\n",
       "      <td>18.0</td>\n",
       "      <td>82.8</td>\n",
       "      <td>140.4</td>\n",
       "      <td>194.4</td>\n",
       "      <td>64.8</td>\n",
       "      <td>72.0</td>\n",
       "      <td>...</td>\n",
       "      <td>0</td>\n",
       "      <td>0</td>\n",
       "      <td>0</td>\n",
       "      <td>0</td>\n",
       "      <td>0</td>\n",
       "      <td>0</td>\n",
       "      <td>0</td>\n",
       "      <td>0</td>\n",
       "      <td>0</td>\n",
       "      <td>0</td>\n",
       "    </tr>\n",
       "    <tr>\n",
       "      <th>3</th>\n",
       "      <td>2017-01-01 01:30:00</td>\n",
       "      <td>-2419.2</td>\n",
       "      <td>108.0</td>\n",
       "      <td>93.6</td>\n",
       "      <td>14.4</td>\n",
       "      <td>75.6</td>\n",
       "      <td>144.0</td>\n",
       "      <td>176.4</td>\n",
       "      <td>57.6</td>\n",
       "      <td>61.2</td>\n",
       "      <td>...</td>\n",
       "      <td>0</td>\n",
       "      <td>0</td>\n",
       "      <td>0</td>\n",
       "      <td>0</td>\n",
       "      <td>0</td>\n",
       "      <td>0</td>\n",
       "      <td>0</td>\n",
       "      <td>0</td>\n",
       "      <td>0</td>\n",
       "      <td>0</td>\n",
       "    </tr>\n",
       "    <tr>\n",
       "      <th>4</th>\n",
       "      <td>2017-01-01 02:00:00</td>\n",
       "      <td>-2196.0</td>\n",
       "      <td>100.8</td>\n",
       "      <td>82.8</td>\n",
       "      <td>14.4</td>\n",
       "      <td>72.0</td>\n",
       "      <td>133.2</td>\n",
       "      <td>147.6</td>\n",
       "      <td>54.0</td>\n",
       "      <td>61.2</td>\n",
       "      <td>...</td>\n",
       "      <td>0</td>\n",
       "      <td>0</td>\n",
       "      <td>0</td>\n",
       "      <td>0</td>\n",
       "      <td>0</td>\n",
       "      <td>0</td>\n",
       "      <td>0</td>\n",
       "      <td>0</td>\n",
       "      <td>0</td>\n",
       "      <td>0</td>\n",
       "    </tr>\n",
       "  </tbody>\n",
       "</table>\n",
       "<p>5 rows × 133 columns</p>\n",
       "</div>"
      ],
      "text/plain": [
       "             Timestamp  D_node-1  D_node-2  D_node-3  D_node-4  D_node-5  \\\n",
       "0  2017-01-01 00:00:00   -3337.2     151.2     140.4      21.6     104.4   \n",
       "1  2017-01-01 00:30:00   -2973.6     136.8     122.4      18.0     100.8   \n",
       "2  2017-01-01 01:00:00   -2584.8     118.8     100.8      18.0      82.8   \n",
       "3  2017-01-01 01:30:00   -2419.2     108.0      93.6      14.4      75.6   \n",
       "4  2017-01-01 02:00:00   -2196.0     100.8      82.8      14.4      72.0   \n",
       "\n",
       "   D_node-6  D_node-7  D_node-8  D_node-9  ...  Leak_node-25  Leak_node-26  \\\n",
       "0     169.2     219.6      86.4      90.0  ...             0             0   \n",
       "1     154.8     230.4      79.2      72.0  ...             0             0   \n",
       "2     140.4     194.4      64.8      72.0  ...             0             0   \n",
       "3     144.0     176.4      57.6      61.2  ...             0             0   \n",
       "4     133.2     147.6      54.0      61.2  ...             0             0   \n",
       "\n",
       "   Leak_node-27  Leak_node-28  Leak_node-29  Leak_node-30  Leak_node-31  \\\n",
       "0             0             0             0             0             0   \n",
       "1             0             0             0             0             0   \n",
       "2             0             0             0             0             0   \n",
       "3             0             0             0             0             0   \n",
       "4             0             0             0             0             0   \n",
       "\n",
       "   Leak_node-32  Leak_node-33  Leak_node-34  \n",
       "0             0             0             0  \n",
       "1             0             0             0  \n",
       "2             0             0             0  \n",
       "3             0             0             0  \n",
       "4             0             0             0  \n",
       "\n",
       "[5 rows x 133 columns]"
      ]
     },
     "execution_count": 24,
     "metadata": {},
     "output_type": "execute_result"
    }
   ],
   "source": [
    "combined_data_final.head()"
   ]
  },
  {
   "cell_type": "code",
   "execution_count": 25,
   "id": "61b777e7",
   "metadata": {},
   "outputs": [
    {
     "data": {
      "text/plain": [
       "(35040, 133)"
      ]
     },
     "execution_count": 25,
     "metadata": {},
     "output_type": "execute_result"
    }
   ],
   "source": [
    "combined_data_final.shape"
   ]
  },
  {
   "cell_type": "code",
   "execution_count": 26,
   "id": "4d3a228c",
   "metadata": {},
   "outputs": [
    {
     "data": {
      "text/plain": [
       "Timestamp       0\n",
       "D_node-1        0\n",
       "D_node-2        0\n",
       "D_node-3        0\n",
       "D_node-4        0\n",
       "               ..\n",
       "Leak_node-30    0\n",
       "Leak_node-31    0\n",
       "Leak_node-32    0\n",
       "Leak_node-33    0\n",
       "Leak_node-34    0\n",
       "Length: 133, dtype: int64"
      ]
     },
     "execution_count": 26,
     "metadata": {},
     "output_type": "execute_result"
    }
   ],
   "source": [
    "combined_data_final.isna().sum()"
   ]
  },
  {
   "cell_type": "code",
   "execution_count": 27,
   "id": "a2758294",
   "metadata": {},
   "outputs": [
    {
     "name": "stdout",
     "output_type": "stream",
     "text": [
      "0     0\n",
      "1     0\n",
      "2     0\n",
      "3     0\n",
      "4     0\n",
      "     ..\n",
      "95    0\n",
      "96    0\n",
      "97    0\n",
      "98    0\n",
      "99    0\n",
      "Name: Leak_node-25, Length: 100, dtype: int64\n"
     ]
    }
   ],
   "source": [
    "print(combined_data_final['Leak_node-25'].head(100))"
   ]
  },
  {
   "cell_type": "code",
   "execution_count": 28,
   "id": "a19bafea",
   "metadata": {},
   "outputs": [],
   "source": [
    "# combined_data_final['Leak_node-25'].isna().sum()\n"
   ]
  },
  {
   "cell_type": "code",
   "execution_count": 29,
   "id": "e5aaaace",
   "metadata": {},
   "outputs": [
    {
     "name": "stdout",
     "output_type": "stream",
     "text": [
      "Timestamp       0\n",
      "D_node-1        0\n",
      "D_node-2        0\n",
      "D_node-3        0\n",
      "D_node-4        0\n",
      "               ..\n",
      "Leak_node-30    0\n",
      "Leak_node-31    0\n",
      "Leak_node-32    0\n",
      "Leak_node-33    0\n",
      "Leak_node-34    0\n",
      "Length: 133, dtype: int64\n"
     ]
    }
   ],
   "source": [
    "print(combined_data_final.isna().sum())"
   ]
  },
  {
   "cell_type": "code",
   "execution_count": 30,
   "id": "43309684",
   "metadata": {},
   "outputs": [
    {
     "name": "stdout",
     "output_type": "stream",
     "text": [
      "Timestamp\n",
      "D_node-1\n",
      "D_node-2\n",
      "D_node-3\n",
      "D_node-4\n",
      "D_node-5\n",
      "D_node-6\n",
      "D_node-7\n",
      "D_node-8\n",
      "D_node-9\n",
      "D_node-10\n",
      "D_node-11\n",
      "D_node-12\n",
      "D_node-13\n",
      "D_node-14\n",
      "D_node-15\n",
      "D_node-16\n",
      "D_node-17\n",
      "D_node-18\n",
      "D_node-19\n",
      "D_node-20\n",
      "D_node-21\n",
      "D_node-22\n",
      "D_node-23\n",
      "D_node-24\n",
      "D_node-25\n",
      "D_node-26\n",
      "D_node-27\n",
      "D_node-28\n",
      "D_node-29\n",
      "D_node-30\n",
      "D_node-31\n",
      "D_node-32\n",
      "P_node-1\n",
      "P_node-2\n",
      "P_node-3\n",
      "P_node-4\n",
      "P_node-5\n",
      "P_node-6\n",
      "P_node-7\n",
      "P_node-8\n",
      "P_node-9\n",
      "P_node-10\n",
      "P_node-11\n",
      "P_node-12\n",
      "P_node-13\n",
      "P_node-14\n",
      "P_node-15\n",
      "P_node-16\n",
      "P_node-17\n",
      "P_node-18\n",
      "P_node-19\n",
      "P_node-20\n",
      "P_node-21\n",
      "P_node-22\n",
      "P_node-23\n",
      "P_node-24\n",
      "P_node-25\n",
      "P_node-26\n",
      "P_node-27\n",
      "P_node-28\n",
      "P_node-29\n",
      "P_node-30\n",
      "P_node-31\n",
      "P_node-32\n",
      "F_node-1\n",
      "F_node-2\n",
      "F_node-3\n",
      "F_node-4\n",
      "F_node-5\n",
      "F_node-6\n",
      "F_node-7\n",
      "F_node-8\n",
      "F_node-9\n",
      "F_node-10\n",
      "F_node-11\n",
      "F_node-12\n",
      "F_node-13\n",
      "F_node-14\n",
      "F_node-15\n",
      "F_node-16\n",
      "F_node-17\n",
      "F_node-18\n",
      "F_node-19\n",
      "F_node-20\n",
      "F_node-21\n",
      "F_node-22\n",
      "F_node-23\n",
      "F_node-24\n",
      "F_node-25\n",
      "F_node-26\n",
      "F_node-27\n",
      "F_node-28\n",
      "F_node-29\n",
      "F_node-30\n",
      "F_node-31\n",
      "F_node-32\n",
      "F_node-33\n",
      "F_node-34\n",
      "Leak_node-1\n",
      "Leak_node-2\n",
      "Leak_node-3\n",
      "Leak_node-4\n",
      "Leak_node-5\n",
      "Leak_node-6\n",
      "Leak_node-7\n",
      "Leak_node-8\n",
      "Leak_node-9\n",
      "Leak_node-10\n",
      "Leak_node-11\n",
      "Leak_node-12\n",
      "Leak_node-13\n",
      "Leak_node-14\n",
      "Leak_node-15\n",
      "Leak_node-16\n",
      "Leak_node-17\n",
      "Leak_node-18\n",
      "Leak_node-19\n",
      "Leak_node-20\n",
      "Leak_node-21\n",
      "Leak_node-22\n",
      "Leak_node-23\n",
      "Leak_node-24\n",
      "Leak_node-25\n",
      "Leak_node-26\n",
      "Leak_node-27\n",
      "Leak_node-28\n",
      "Leak_node-29\n",
      "Leak_node-30\n",
      "Leak_node-31\n",
      "Leak_node-32\n",
      "Leak_node-33\n",
      "Leak_node-34\n"
     ]
    }
   ],
   "source": [
    "for col in combined_data_final.columns:\n",
    "    print(col)"
   ]
  },
  {
   "cell_type": "code",
   "execution_count": null,
   "id": "da4d06da",
   "metadata": {},
   "outputs": [],
   "source": []
  },
  {
   "cell_type": "code",
   "execution_count": 31,
   "id": "46539b17",
   "metadata": {},
   "outputs": [
    {
     "name": "stdout",
     "output_type": "stream",
     "text": [
      "First few rows of the combined dataset:\n",
      "             Timestamp  D_node-1  D_node-2  D_node-3  D_node-4  D_node-5  \\\n",
      "0  2017-01-01 00:00:00   -3337.2     151.2     140.4      21.6     104.4   \n",
      "1  2017-01-01 00:30:00   -2973.6     136.8     122.4      18.0     100.8   \n",
      "2  2017-01-01 01:00:00   -2584.8     118.8     100.8      18.0      82.8   \n",
      "3  2017-01-01 01:30:00   -2419.2     108.0      93.6      14.4      75.6   \n",
      "4  2017-01-01 02:00:00   -2196.0     100.8      82.8      14.4      72.0   \n",
      "\n",
      "   D_node-6  D_node-7  D_node-8  D_node-9  ...  Leak_node-25  Leak_node-26  \\\n",
      "0     169.2     219.6      86.4      90.0  ...             0             0   \n",
      "1     154.8     230.4      79.2      72.0  ...             0             0   \n",
      "2     140.4     194.4      64.8      72.0  ...             0             0   \n",
      "3     144.0     176.4      57.6      61.2  ...             0             0   \n",
      "4     133.2     147.6      54.0      61.2  ...             0             0   \n",
      "\n",
      "   Leak_node-27  Leak_node-28  Leak_node-29  Leak_node-30  Leak_node-31  \\\n",
      "0             0             0             0             0             0   \n",
      "1             0             0             0             0             0   \n",
      "2             0             0             0             0             0   \n",
      "3             0             0             0             0             0   \n",
      "4             0             0             0             0             0   \n",
      "\n",
      "   Leak_node-32  Leak_node-33  Leak_node-34  \n",
      "0             0             0             0  \n",
      "1             0             0             0  \n",
      "2             0             0             0  \n",
      "3             0             0             0  \n",
      "4             0             0             0  \n",
      "\n",
      "[5 rows x 133 columns]\n"
     ]
    }
   ],
   "source": [
    "# View the first few rows of the combined dataset\n",
    "print(\"First few rows of the combined dataset:\")\n",
    "print(combined_data_final.head())\n"
   ]
  },
  {
   "cell_type": "code",
   "execution_count": 32,
   "id": "1e0cbe82",
   "metadata": {},
   "outputs": [],
   "source": [
    "# Load data from combined_data_final DataFrame\n",
    "# Assuming 'Timestamp' column is not needed for modeling\n",
    "X = combined_data_final.drop(columns=['Timestamp']).values\n",
    "\n",
    "# Determine the target variable: whether there is any leakage in any node\n",
    "y = (combined_data_final.filter(like='Leak_node-') > 0).any(axis=1).astype(int)"
   ]
  },
  {
   "cell_type": "code",
   "execution_count": 33,
   "id": "6024aa37",
   "metadata": {},
   "outputs": [],
   "source": [
    "# Standardize the features\n",
    "scaler = StandardScaler()\n",
    "X_scaled = scaler.fit_transform(X)"
   ]
  },
  {
   "cell_type": "code",
   "execution_count": 34,
   "id": "0042526c",
   "metadata": {},
   "outputs": [],
   "source": [
    "# Reshape data for CNN\n",
    "X_reshaped = np.expand_dims(X_scaled, axis=2)"
   ]
  },
  {
   "cell_type": "code",
   "execution_count": 35,
   "id": "64b48128",
   "metadata": {},
   "outputs": [
    {
     "name": "stdout",
     "output_type": "stream",
     "text": [
      "WARNING:tensorflow:From C:\\Users\\karan\\anaconda3\\Lib\\site-packages\\keras\\src\\backend.py:873: The name tf.get_default_graph is deprecated. Please use tf.compat.v1.get_default_graph instead.\n",
      "\n",
      "WARNING:tensorflow:From C:\\Users\\karan\\anaconda3\\Lib\\site-packages\\keras\\src\\backend.py:6642: The name tf.nn.max_pool is deprecated. Please use tf.nn.max_pool2d instead.\n",
      "\n"
     ]
    }
   ],
   "source": [
    "# Define the model architecture\n",
    "model = tf.keras.Sequential([\n",
    "    tf.keras.layers.Conv1D(filters=64, kernel_size=3, activation='relu', input_shape=(X_reshaped.shape[1], 1)),\n",
    "    tf.keras.layers.MaxPooling1D(pool_size=2),\n",
    "    tf.keras.layers.Flatten(),\n",
    "    tf.keras.layers.Dense(64, activation='relu'),\n",
    "    tf.keras.layers.Dense(1, activation='sigmoid')\n",
    "])"
   ]
  },
  {
   "cell_type": "code",
   "execution_count": 36,
   "id": "e309dd79",
   "metadata": {},
   "outputs": [
    {
     "name": "stdout",
     "output_type": "stream",
     "text": [
      "WARNING:tensorflow:From C:\\Users\\karan\\anaconda3\\Lib\\site-packages\\keras\\src\\optimizers\\__init__.py:309: The name tf.train.Optimizer is deprecated. Please use tf.compat.v1.train.Optimizer instead.\n",
      "\n"
     ]
    }
   ],
   "source": [
    "# Compile the model\n",
    "model.compile(optimizer='adam', loss='binary_crossentropy', metrics=['accuracy'])"
   ]
  },
  {
   "cell_type": "code",
   "execution_count": 37,
   "id": "fa4a1e37",
   "metadata": {},
   "outputs": [],
   "source": [
    "# Define the number of folds for cross-validation\n",
    "n_splits = 5\n",
    "\n",
    "# Initialize lists to store training and validation errors for each fold\n",
    "train_errors = []\n",
    "val_errors = []\n",
    "\n",
    "# Initialize KFold cross-validation\n",
    "kf = KFold(n_splits=n_splits, shuffle=True)"
   ]
  },
  {
   "cell_type": "code",
   "execution_count": 38,
   "id": "ea40038e",
   "metadata": {},
   "outputs": [],
   "source": [
    "# Reshape data for CNN\n",
    "X_reshaped = np.expand_dims(X_scaled, axis=2)"
   ]
  },
  {
   "cell_type": "code",
   "execution_count": 39,
   "id": "62f1055c",
   "metadata": {},
   "outputs": [],
   "source": [
    "# Define the model architecture\n",
    "model = tf.keras.Sequential([\n",
    "    tf.keras.layers.Conv1D(filters=64, kernel_size=3, activation='relu', input_shape=(X_reshaped.shape[1], 1)),\n",
    "    tf.keras.layers.MaxPooling1D(pool_size=2),\n",
    "    tf.keras.layers.Flatten(),\n",
    "    tf.keras.layers.Dense(64, activation='relu'),\n",
    "    tf.keras.layers.Dense(1, activation='sigmoid')\n",
    "])"
   ]
  },
  {
   "cell_type": "code",
   "execution_count": 40,
   "id": "8beabb4e",
   "metadata": {},
   "outputs": [],
   "source": [
    "# Compile the model\n",
    "model.compile(optimizer='adam', loss='binary_crossentropy', metrics=['accuracy'])"
   ]
  },
  {
   "cell_type": "code",
   "execution_count": 41,
   "id": "9e10fd24",
   "metadata": {},
   "outputs": [],
   "source": [
    "# Define the number of folds for cross-validation\n",
    "n_splits = 5\n",
    "\n",
    "# Initialize lists to store training and validation errors for each fold\n",
    "train_errors = []\n",
    "val_errors = []\n",
    "\n",
    "# Initialize KFold cross-validation\n",
    "kf = KFold(n_splits=n_splits, shuffle=True)"
   ]
  },
  {
   "cell_type": "code",
   "execution_count": 45,
   "id": "74421bf9",
   "metadata": {},
   "outputs": [],
   "source": [
    "# Loop through each fold\n",
    "for train_index, val_index in kf.split(X_reshaped):\n",
    "    # Split the data into training and validation sets for this fold\n",
    "    X_train, X_val = X_reshaped[train_index], X_reshaped[val_index]\n",
    "    y_train, y_val = y[train_index], y[val_index]\n",
    "    \n",
    "    # Train the model and record training/validation errors for each epoch\n",
    "    history = model.fit(X_train, y_train, epochs=10, batch_size=32, validation_data=(X_val, y_val), verbose=0)\n",
    "    \n",
    "    # Append training and validation errors to the lists\n",
    "    train_errors.append(history.history['loss'])\n",
    "    val_errors.append(history.history['val_loss'])"
   ]
  },
  {
   "cell_type": "code",
   "execution_count": 46,
   "id": "01d93e5f",
   "metadata": {},
   "outputs": [],
   "source": [
    "# Calculate average training and validation errors across all folds\n",
    "avg_train_errors = np.mean(train_errors, axis=0)\n",
    "avg_val_errors = np.mean(val_errors, axis=0)"
   ]
  },
  {
   "cell_type": "code",
   "execution_count": 47,
   "id": "3beff1c8",
   "metadata": {},
   "outputs": [
    {
     "data": {
      "image/png": "[encoded data removed]",
      "text/plain": [
       "<Figure size 640x480 with 1 Axes>"
      ]
     },
     "metadata": {},
     "output_type": "display_data"
    }
   ],
   "source": [
    "# Plot epochs vs cross-validation error curve\n",
    "plt.plot(range(1, len(avg_train_errors) + 1), avg_train_errors, label='Training Error')\n",
    "plt.plot(range(1, len(avg_val_errors) + 1), avg_val_errors, label='Validation Error')\n",
    "plt.xlabel('Epochs')\n",
    "plt.ylabel('Error')\n",
    "plt.title('Epochs vs Cross-Validation Error')\n",
    "plt.legend()\n",
    "plt.show()"
   ]
  },
  {
   "cell_type": "code",
   "execution_count": null,
   "id": "be4adf94",
   "metadata": {},
   "outputs": [],
   "source": []
  },
  {
   "cell_type": "code",
   "execution_count": null,
   "id": "5df122c6",
   "metadata": {},
   "outputs": [],
   "source": []
  }
 ],
 "metadata": {
  "kernelspec": {
   "display_name": "Python 3 (ipykernel)",
   "language": "python",
   "name": "python3"
  },
  "language_info": {
   "codemirror_mode": {
    "name": "ipython",
    "version": 3
   },
   "file_extension": ".py",
   "mimetype": "text/x-python",
   "name": "python",
   "nbconvert_exporter": "python",
   "pygments_lexer": "ipython3",
   "version": "3.11.5"
  }
 },
 "nbformat": 4,
 "nbformat_minor": 5
}
